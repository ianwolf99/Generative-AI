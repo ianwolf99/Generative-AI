{
  "nbformat": 4,
  "nbformat_minor": 0,
  "metadata": {
    "colab": {
      "provenance": [],
      "include_colab_link": true
    },
    "kernelspec": {
      "name": "python3",
      "display_name": "Python 3"
    },
    "language_info": {
      "name": "python"
    }
  },
  "cells": [
    {
      "cell_type": "markdown",
      "metadata": {
        "id": "view-in-github",
        "colab_type": "text"
      },
      "source": [
        "<a href=\"https://colab.research.google.com/github/ianwolf99/Generative-AI/blob/main/ChatGPT_with_Python.ipynb\" target=\"_parent\"><img src=\"https://colab.research.google.com/assets/colab-badge.svg\" alt=\"Open In Colab\"/></a>"
      ]
    },
    {
      "cell_type": "code",
      "execution_count": null,
      "metadata": {
        "colab": {
          "base_uri": "https://localhost:8080/",
          "height": 399
        },
        "id": "AeTwSfZum1OQ",
        "outputId": "c4393583-aad6-4496-e075-88ea34e4c6dc"
      },
      "outputs": [
        {
          "output_type": "stream",
          "name": "stdout",
          "text": [
            "Looking in indexes: https://pypi.org/simple, https://us-python.pkg.dev/colab-wheels/public/simple/\n",
            "Collecting pyChatGPT\n",
            "  Downloading pyChatGPT-0.1.0-py3-none-any.whl (17 kB)\n",
            "Collecting uuid\n",
            "  Downloading uuid-1.30.tar.gz (5.8 kB)\n",
            "Requirement already satisfied: requests in /usr/local/lib/python3.8/dist-packages (from pyChatGPT) (2.23.0)\n",
            "Requirement already satisfied: certifi>=2017.4.17 in /usr/local/lib/python3.8/dist-packages (from requests->pyChatGPT) (2022.9.24)\n",
            "Requirement already satisfied: urllib3!=1.25.0,!=1.25.1,<1.26,>=1.21.1 in /usr/local/lib/python3.8/dist-packages (from requests->pyChatGPT) (1.24.3)\n",
            "Requirement already satisfied: chardet<4,>=3.0.2 in /usr/local/lib/python3.8/dist-packages (from requests->pyChatGPT) (3.0.4)\n",
            "Requirement already satisfied: idna<3,>=2.5 in /usr/local/lib/python3.8/dist-packages (from requests->pyChatGPT) (2.10)\n",
            "Building wheels for collected packages: uuid\n",
            "  Building wheel for uuid (setup.py) ... \u001b[?25l\u001b[?25hdone\n",
            "  Created wheel for uuid: filename=uuid-1.30-py3-none-any.whl size=6502 sha256=795a2cb8c393695a1c6b84342e71874df34a5088b9226daf1b21740ede89b791\n",
            "  Stored in directory: /root/.cache/pip/wheels/1b/6c/cb/f9aae2bc97333c3d6e060826c1ee9e44e46306a178e5783505\n",
            "Successfully built uuid\n",
            "Installing collected packages: uuid, pyChatGPT\n",
            "Successfully installed pyChatGPT-0.1.0 uuid-1.30\n"
          ]
        },
        {
          "output_type": "display_data",
          "data": {
            "application/vnd.colab-display-data+json": {
              "pip_warning": {
                "packages": [
                  "uuid"
                ]
              }
            }
          },
          "metadata": {}
        }
      ],
      "source": [
        "#!pip install pyChatGPT"
      ]
    },
    {
      "cell_type": "code",
      "source": [
        "from pyChatGPT import ChatGPT"
      ],
      "metadata": {
        "id": "4s2lpskbnH_e"
      },
      "execution_count": null,
      "outputs": []
    },
    {
      "cell_type": "code",
      "source": [
        "session_token = 'xxxx'  # `__Secure-next-auth.session-token` cookie from https://chat.openai.com/chat\n",
        "api = ChatGPT(session_token)  # auth with session token"
      ],
      "metadata": {
        "id": "TQSR5zW8nMgJ"
      },
      "execution_count": null,
      "outputs": []
    },
    {
      "cell_type": "code",
      "source": [
        "# api2 = ChatGPT(email='example@domain.com', password='password')  # auth with email and password\n",
        "# api3 = ChatGPT(session_token, conversation_id='some-random-uuid')  # specify a conversation id\n",
        "# api4 = ChatGPT(session_token, proxy='http://proxy.example.com:8080')  # specify proxy\n"
      ],
      "metadata": {
        "id": "8p0eX8IPnOHF"
      },
      "execution_count": null,
      "outputs": []
    },
    {
      "cell_type": "code",
      "source": [
        "resp = api.send_message('Write an essay on Generative AI')\n",
        "print(resp['message'])"
      ],
      "metadata": {
        "colab": {
          "base_uri": "https://localhost:8080/"
        },
        "id": "Rp48i5StnZMe",
        "outputId": "18f9e0fb-02e0-43cf-9f18-12aacd6f6aa3"
      },
      "execution_count": null,
      "outputs": [
        {
          "output_type": "stream",
          "name": "stdout",
          "text": [
            "Generative AI is a type of artificial intelligence that is focused on generating new content, rather than simply recognizing or classifying existing content. This is achieved by training a generative model on a large dataset, which allows the model to learn the patterns and structures of the data, and then using that knowledge to generate new, original content.\n",
            "\n",
            "One of the key advantages of generative AI is its ability to produce a wide range of output. Because the model is not limited to reproducing only what it has seen before, it has the potential to generate a virtually limitless amount of content. This makes it a powerful tool for tasks such as data augmentation, where large amounts of additional data are needed to train other machine learning models.\n",
            "\n",
            "Another important advantage of generative AI is its ability to capture the nuances and complexity of real-world data. By learning from a large dataset, a generative model can capture the fine-grained details and patterns of the data, which allows it to produce more realistic output. This is particularly useful in tasks such as natural language processing, where the ability to generate fluent, coherent text is critical.\n",
            "\n",
            "Despite these advantages, there are also some limitations to generative AI. One of the main challenges is that it can be difficult to evaluate the quality of the generated content. Unlike other types of AI, where the output can be easily compared to ground truth data, it is not always clear how well a generative model is performing. Additionally, generative AI can sometimes produce content that is nonsensical or irrelevant, which can be frustrating for users.\n",
            "\n",
            "Overall, generative AI is a powerful tool for creating new content, and has the potential to revolutionize a wide range of industries. By learning the patterns and structures of real-world data, generative models can produce a vast amount of original content, which can be used for tasks such as data augmentation and natural language processing. While there are still some challenges to be overcome, the future of generative AI looks bright.\n"
          ]
        }
      ]
    },
    {
      "cell_type": "code",
      "source": [
        "\n",
        "api.refresh_auth()  # refresh the authorization token\n",
        "api.reset_conversation()  # reset the conversation"
      ],
      "metadata": {
        "id": "TgN9hwsmnBvX"
      },
      "execution_count": null,
      "outputs": []
    }
  ]
}